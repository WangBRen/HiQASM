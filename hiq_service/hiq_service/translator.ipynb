{
 "cells": [
  {
   "cell_type": "code",
   "execution_count": 3,
   "metadata": {},
   "outputs": [],
   "source": [
    "a={\"blocks\":[{\"type\":\"X\",\"id\":1,\"pos\":[0,0],\"ctrls\":[]},{\"type\":\"Y\",\"id\":2,\"pos\":[0,1],\"ctrls\":[]},{\"type\":\"Z\",\"id\":3,\"pos\":[2,0],\"ctrls\":[]},{\"type\":\"H\",\"id\":4,\"pos\":[2,1],\"ctrls\":[]},{\"type\":\"T\",\"id\":5,\"pos\":[0,2],\"ctrls\":[]},{\"type\":\"Rx\",\"id\":7,\"pos\":[2,2],\"ctrls\":[]}]}"
   ]
  },
  {
   "cell_type": "code",
   "execution_count": 4,
   "metadata": {},
   "outputs": [],
   "source": [
    "def trans(self):\n",
    "    op_list = self[\"blocks\"]\n",
    "    n=len(op_list)\n",
    "    pre_hiq = \"from math import pi\\n\"+\"import projectq\\n\"+\"from projectq.backends import *\\n\"+\"from projectq.ops import *\\n\"+\"eng = projectq.MainEngine(backend=, verbose=True)\\n\"\n",
    "    hiq_list=[[[] for col in range(10)] for row in range(10)]\n",
    "    hiq=''\n",
    "    for k in range(n-1):\n",
    "        for i in range(n-1-k):\n",
    "            if op_list[i]['pos'][0]>op_list[i+1]['pos'][0]:\n",
    "                op_list[i],op_list[i+1] = op_list[i+1],op_list[i]\n",
    "    \n",
    "    r=[0]*10\n",
    "    \n",
    "\n",
    "    for i in range(n):\n",
    "            k = op_list[i]['pos'][0]\n",
    "            j = op_list[i]['pos'][1]\n",
    "            hiq_list[k][j] = op_list[i]['type']           \n",
    "\n",
    "            \n",
    "            if  j == 0:\n",
    "                hiq += hiq_list[k][j]\n",
    "                hiq += \" | b1\\n\"\n",
    "                r[0] += 1\n",
    "                if r[0] <= 1:\n",
    "                    pre_hiq += 'b1 =  eng.allocate_qubit()\\n'\n",
    "            \n",
    "            if  j == 1:\n",
    "                hiq += hiq_list[k][j]\n",
    "                hiq += \" | b2\\n\"\n",
    "                r[1] += 1\n",
    "                if r[1] <= 1:\n",
    "                    pre_hiq += 'b2 =  eng.allocate_qubit()\\n'\n",
    "            \n",
    "            if  j == 2:\n",
    "                hiq += hiq_list[k][j]\n",
    "                hiq += \" | b3\\n\"\n",
    "                r[2] += 1\n",
    "                if r[2] <= 1:\n",
    "                    pre_hiq += 'b3 =  eng.allocate_qubit()\\n'\n",
    "    print(pre_hiq+hiq)"
   ]
  },
  {
   "cell_type": "code",
   "execution_count": 5,
   "metadata": {},
   "outputs": [
    {
     "name": "stdout",
     "output_type": "stream",
     "text": [
      "from math import pi\n",
      "import projectq\n",
      "from projectq.backends import *\n",
      "from projectq.ops import *\n",
      "eng = projectq.MainEngine(backend=, verbose=True)\n",
      "b1 =  eng.allocate_qubit()\n",
      "b2 =  eng.allocate_qubit()\n",
      "b3 =  eng.allocate_qubit()\n",
      "X | b1\n",
      "Y | b2\n",
      "T | b3\n",
      "Z | b1\n",
      "H | b2\n",
      "Rx | b3\n",
      "\n"
     ]
    }
   ],
   "source": [
    "trans(a)"
   ]
  },
  {
   "cell_type": "code",
   "execution_count": 6,
   "metadata": {},
   "outputs": [],
   "source": [
    "b = {\"blocks\":[{\"type\":\"X\",\"id\":1,\"pos\":[0,0],\"ctrls\":[]},{\"type\":\"Y\",\"id\":2,\"pos\":[0,1],\"ctrls\":[]},{\"type\":\"Z\",\"id\":3,\"pos\":[2,0],\"ctrls\":[]},{\"type\":\"H\",\"id\":4,\"pos\":[2,1],\"ctrls\":[]},{\"type\":\"T\",\"id\":5,\"pos\":[0,2],\"ctrls\":[]},{\"type\":\"Rx\",\"id\":7,\"pos\":[2,2],\"ctrls\":[]}]}"
   ]
  },
  {
   "cell_type": "code",
   "execution_count": 7,
   "metadata": {},
   "outputs": [
    {
     "name": "stdout",
     "output_type": "stream",
     "text": [
      "from math import pi\n",
      "import projectq\n",
      "from projectq.backends import *\n",
      "from projectq.ops import *\n",
      "eng = projectq.MainEngine(backend=, verbose=True)\n",
      "b1 =  eng.allocate_qubit()\n",
      "b2 =  eng.allocate_qubit()\n",
      "b3 =  eng.allocate_qubit()\n",
      "X | b1\n",
      "Y | b2\n",
      "T | b3\n",
      "Z | b1\n",
      "H | b2\n",
      "Rx | b3\n",
      "\n"
     ]
    }
   ],
   "source": [
    "trans(b)"
   ]
  },
  {
   "cell_type": "code",
   "execution_count": null,
   "metadata": {},
   "outputs": [],
   "source": []
  }
 ],
 "metadata": {
  "kernelspec": {
   "display_name": "Python 3",
   "language": "python",
   "name": "python3"
  },
  "language_info": {
   "codemirror_mode": {
    "name": "ipython",
    "version": 3
   },
   "file_extension": ".py",
   "mimetype": "text/x-python",
   "name": "python",
   "nbconvert_exporter": "python",
   "pygments_lexer": "ipython3",
   "version": "3.8.3"
  }
 },
 "nbformat": 4,
 "nbformat_minor": 4
}
